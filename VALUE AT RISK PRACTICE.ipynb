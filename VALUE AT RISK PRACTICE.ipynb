{
 "cells": [
  {
   "cell_type": "code",
   "execution_count": 25,
   "metadata": {},
   "outputs": [
    {
     "data": {
      "text/html": [
       "<div>\n",
       "<style scoped>\n",
       "    .dataframe tbody tr th:only-of-type {\n",
       "        vertical-align: middle;\n",
       "    }\n",
       "\n",
       "    .dataframe tbody tr th {\n",
       "        vertical-align: top;\n",
       "    }\n",
       "\n",
       "    .dataframe thead th {\n",
       "        text-align: right;\n",
       "    }\n",
       "</style>\n",
       "<table border=\"1\" class=\"dataframe\">\n",
       "  <thead>\n",
       "    <tr style=\"text-align: right;\">\n",
       "      <th>Symbols</th>\n",
       "      <th>TSLA</th>\n",
       "      <th>GME</th>\n",
       "      <th>PLTR</th>\n",
       "      <th>PLUG</th>\n",
       "    </tr>\n",
       "    <tr>\n",
       "      <th>Date</th>\n",
       "      <th></th>\n",
       "      <th></th>\n",
       "      <th></th>\n",
       "      <th></th>\n",
       "    </tr>\n",
       "  </thead>\n",
       "  <tbody>\n",
       "    <tr>\n",
       "      <th>2021-01-08</th>\n",
       "      <td>0.078403</td>\n",
       "      <td>-0.021571</td>\n",
       "      <td>0.008000</td>\n",
       "      <td>0.137238</td>\n",
       "    </tr>\n",
       "    <tr>\n",
       "      <th>2021-01-11</th>\n",
       "      <td>-0.078214</td>\n",
       "      <td>0.127190</td>\n",
       "      <td>0.028968</td>\n",
       "      <td>0.003533</td>\n",
       "    </tr>\n",
       "    <tr>\n",
       "      <th>2021-01-12</th>\n",
       "      <td>0.047153</td>\n",
       "      <td>0.000502</td>\n",
       "      <td>0.009641</td>\n",
       "      <td>0.223272</td>\n",
       "    </tr>\n",
       "    <tr>\n",
       "      <th>2021-01-13</th>\n",
       "      <td>0.005851</td>\n",
       "      <td>0.573935</td>\n",
       "      <td>-0.025974</td>\n",
       "      <td>0.052711</td>\n",
       "    </tr>\n",
       "    <tr>\n",
       "      <th>2021-01-14</th>\n",
       "      <td>-0.011013</td>\n",
       "      <td>0.271019</td>\n",
       "      <td>-0.022745</td>\n",
       "      <td>-0.042590</td>\n",
       "    </tr>\n",
       "  </tbody>\n",
       "</table>\n",
       "</div>"
      ],
      "text/plain": [
       "Symbols         TSLA       GME      PLTR      PLUG\n",
       "Date                                              \n",
       "2021-01-08  0.078403 -0.021571  0.008000  0.137238\n",
       "2021-01-11 -0.078214  0.127190  0.028968  0.003533\n",
       "2021-01-12  0.047153  0.000502  0.009641  0.223272\n",
       "2021-01-13  0.005851  0.573935 -0.025974  0.052711\n",
       "2021-01-14 -0.011013  0.271019 -0.022745 -0.042590"
      ]
     },
     "execution_count": 25,
     "metadata": {},
     "output_type": "execute_result"
    }
   ],
   "source": [
    "import pandas as pd\n",
    "from pandas_datareader import data as pdr\n",
    "import yfinance as yf\n",
    "import numpy as np\n",
    "from matplotlib import pyplot as plt\n",
    "import datetime as dt\n",
    "from scipy.stats import norm  \n",
    "\n",
    "tickers = ['TSLA','GME', 'PLTR', 'PLUG']\n",
    " \n",
    "\n",
    "weights = np.array([.3, .10, .15, .45])\n",
    " \n",
    "\n",
    "initial_investment = 1000000\n",
    " \n",
    "\n",
    "data = pdr.get_data_yahoo(tickers, start=\"2018-01-01\", end=dt.date.today())['Close']\n",
    " \n",
    "\n",
    "returns = data.pct_change()\n",
    "\n",
    "returns.tail()\n"
   ]
  },
  {
   "cell_type": "code",
   "execution_count": 27,
   "metadata": {},
   "outputs": [
    {
     "data": {
      "text/html": [
       "<div>\n",
       "<style scoped>\n",
       "    .dataframe tbody tr th:only-of-type {\n",
       "        vertical-align: middle;\n",
       "    }\n",
       "\n",
       "    .dataframe tbody tr th {\n",
       "        vertical-align: top;\n",
       "    }\n",
       "\n",
       "    .dataframe thead th {\n",
       "        text-align: right;\n",
       "    }\n",
       "</style>\n",
       "<table border=\"1\" class=\"dataframe\">\n",
       "  <thead>\n",
       "    <tr style=\"text-align: right;\">\n",
       "      <th>Symbols</th>\n",
       "      <th>TSLA</th>\n",
       "      <th>GME</th>\n",
       "      <th>PLTR</th>\n",
       "      <th>PLUG</th>\n",
       "    </tr>\n",
       "    <tr>\n",
       "      <th>Symbols</th>\n",
       "      <th></th>\n",
       "      <th></th>\n",
       "      <th></th>\n",
       "      <th></th>\n",
       "    </tr>\n",
       "  </thead>\n",
       "  <tbody>\n",
       "    <tr>\n",
       "      <th>TSLA</th>\n",
       "      <td>0.001854</td>\n",
       "      <td>0.000426</td>\n",
       "      <td>0.000778</td>\n",
       "      <td>0.000676</td>\n",
       "    </tr>\n",
       "    <tr>\n",
       "      <th>GME</th>\n",
       "      <td>0.000426</td>\n",
       "      <td>0.003387</td>\n",
       "      <td>0.000036</td>\n",
       "      <td>0.000560</td>\n",
       "    </tr>\n",
       "    <tr>\n",
       "      <th>PLTR</th>\n",
       "      <td>0.000778</td>\n",
       "      <td>0.000036</td>\n",
       "      <td>0.004540</td>\n",
       "      <td>0.000854</td>\n",
       "    </tr>\n",
       "    <tr>\n",
       "      <th>PLUG</th>\n",
       "      <td>0.000676</td>\n",
       "      <td>0.000560</td>\n",
       "      <td>0.000854</td>\n",
       "      <td>0.002415</td>\n",
       "    </tr>\n",
       "  </tbody>\n",
       "</table>\n",
       "</div>"
      ],
      "text/plain": [
       "Symbols      TSLA       GME      PLTR      PLUG\n",
       "Symbols                                        \n",
       "TSLA     0.001854  0.000426  0.000778  0.000676\n",
       "GME      0.000426  0.003387  0.000036  0.000560\n",
       "PLTR     0.000778  0.000036  0.004540  0.000854\n",
       "PLUG     0.000676  0.000560  0.000854  0.002415"
      ]
     },
     "execution_count": 27,
     "metadata": {},
     "output_type": "execute_result"
    }
   ],
   "source": [
    "cov_matrix = returns.cov()\n",
    "cov_matrix"
   ]
  },
  {
   "cell_type": "code",
   "execution_count": 28,
   "metadata": {},
   "outputs": [],
   "source": [
    "avg_rets = returns.mean()\n",
    " \n",
    "\n",
    "port_mean = avg_rets.dot(weights)\n",
    " \n",
    "port_stdev = np.sqrt(weights.T.dot(cov_matrix).dot(weights))\n",
    " \n",
    "\n",
    "mean_investment = (1+port_mean) * initial_investment\n",
    "\n",
    "\n",
    "stdev_investment = initial_investment * port_stdev"
   ]
  },
  {
   "cell_type": "code",
   "execution_count": 30,
   "metadata": {},
   "outputs": [],
   "source": [
    "conf_level1 = 0.10\n",
    "\n",
    "cutoff1 = norm.ppf(conf_level1, mean_investment, stdev_investment)"
   ]
  },
  {
   "cell_type": "code",
   "execution_count": 31,
   "metadata": {},
   "outputs": [
    {
     "data": {
      "text/plain": [
       "38721.18364723073"
      ]
     },
     "execution_count": 31,
     "metadata": {},
     "output_type": "execute_result"
    }
   ],
   "source": [
    "var_1d1 = initial_investment - cutoff1\n",
    "var_1d1"
   ]
  },
  {
   "cell_type": "code",
   "execution_count": 32,
   "metadata": {
    "scrolled": true
   },
   "outputs": [
    {
     "name": "stdout",
     "output_type": "stream",
     "text": [
      "1 day VaR @ 95% confidence: 38721.18\n",
      "2 day VaR @ 95% confidence: 54760.02\n",
      "3 day VaR @ 95% confidence: 67067.06\n",
      "4 day VaR @ 95% confidence: 77442.37\n",
      "5 day VaR @ 95% confidence: 86583.2\n",
      "6 day VaR @ 95% confidence: 94847.14\n",
      "7 day VaR @ 95% confidence: 102446.62\n",
      "8 day VaR @ 95% confidence: 109520.05\n",
      "9 day VaR @ 95% confidence: 116163.55\n",
      "10 day VaR @ 95% confidence: 122447.13\n",
      "11 day VaR @ 95% confidence: 128423.64\n",
      "12 day VaR @ 95% confidence: 134134.11\n",
      "13 day VaR @ 95% confidence: 139611.21\n",
      "14 day VaR @ 95% confidence: 144881.4\n",
      "15 day VaR @ 95% confidence: 149966.5\n"
     ]
    },
    {
     "data": {
      "text/plain": [
       "[<matplotlib.lines.Line2D at 0x183483c2610>]"
      ]
     },
     "execution_count": 32,
     "metadata": {},
     "output_type": "execute_result"
    },
    {
     "data": {
      "image/png": "[encoded data removed]",
      "text/plain": [
       "<Figure size 432x288 with 1 Axes>"
      ]
     },
     "metadata": {
      "needs_background": "light"
     },
     "output_type": "display_data"
    }
   ],
   "source": [
    "\n",
    "var_array = []\n",
    "num_days = int(15)\n",
    "for x in range(1, num_days+1):    \n",
    "    var_array.append(np.round(var_1d1 * np.sqrt(x),2))\n",
    "    print(str(x) + \" day VaR @ 95% confidence: \" + str(np.round(var_1d1 * np.sqrt(x),2)))\n",
    "\n",
    "\n",
    "plt.xlabel(\"Day #\")\n",
    "plt.ylabel(\"Max portfolio loss (USD)\")\n",
    "plt.title(\"Max portfolio loss (VaR) over 15-day period\")\n",
    "plt.plot(var_array, \"r\")"
   ]
  },
  {
   "cell_type": "code",
   "execution_count": 39,
   "metadata": {},
   "outputs": [
    {
     "data": {
      "image/png": "[encoded data removed]",
      "text/plain": [
       "<Figure size 432x288 with 1 Axes>"
      ]
     },
     "metadata": {
      "needs_background": "light"
     },
     "output_type": "display_data"
    },
    {
     "data": {
      "image/png": "[encoded data removed]",
      "text/plain": [
       "<Figure size 432x288 with 1 Axes>"
      ]
     },
     "metadata": {
      "needs_background": "light"
     },
     "output_type": "display_data"
    },
    {
     "data": {
      "image/png": "[encoded data removed]",
      "text/plain": [
       "<Figure size 432x288 with 1 Axes>"
      ]
     },
     "metadata": {
      "needs_background": "light"
     },
     "output_type": "display_data"
    },
    {
     "data": {
      "image/png": "[encoded data removed]",
      "text/plain": [
       "<Figure size 432x288 with 1 Axes>"
      ]
     },
     "metadata": {
      "needs_background": "light"
     },
     "output_type": "display_data"
    }
   ],
   "source": [
    "returns['TSLA'].hist(bins=40, density=True,histtype=\"stepfilled\",alpha=0.5)\n",
    "x = np.linspace(port_mean - 3*port_stdev, port_mean+3*port_stdev,100)\n",
    "plt.plot(x, norm.pdf(x, port_mean, port_stdev), \"r\")\n",
    "plt.title(\"TSLA returns (binned) vs. normal distribution\")\n",
    "plt.show()\n",
    "\n",
    "returns['GME'].hist(bins=40, density=True,histtype=\"stepfilled\",alpha=0.5)\n",
    "x = np.linspace(port_mean - 3*port_stdev, port_mean+3*port_stdev,100)\n",
    "plt.plot(x, norm.pdf(x, port_mean, port_stdev), \"r\")\n",
    "plt.title(\"GME returns (binned) vs. normal distribution\")\n",
    "plt.show()\n",
    "\n",
    "returns['PLTR'].hist(bins=40, density=True,histtype=\"stepfilled\",alpha=0.5)\n",
    "x = np.linspace(port_mean - 3*port_stdev, port_mean+3*port_stdev,100)\n",
    "plt.plot(x, norm.pdf(x, port_mean, port_stdev), \"r\")\n",
    "plt.title(\"PLTR returns (binned) vs. normal distribution\")\n",
    "plt.show()\n",
    "\n",
    "returns['PLUG'].hist(bins=40, density=True,histtype=\"stepfilled\",alpha=0.5)\n",
    "x = np.linspace(port_mean - 3*port_stdev, port_mean+3*port_stdev,100)\n",
    "plt.plot(x, norm.pdf(x, port_mean, port_stdev), \"r\")\n",
    "plt.title(\"PLUG returns (binned) vs. normal distribution\")\n",
    "plt.show()"
   ]
  },
  {
   "cell_type": "code",
   "execution_count": null,
   "metadata": {},
   "outputs": [],
   "source": []
  },
  {
   "cell_type": "code",
   "execution_count": null,
   "metadata": {},
   "outputs": [],
   "source": []
  },
  {
   "cell_type": "code",
   "execution_count": null,
   "metadata": {},
   "outputs": [],
   "source": []
  }
 ],
 "metadata": {
  "kernelspec": {
   "display_name": "Python 3",
   "language": "python",
   "name": "python3"
  },
  "language_info": {
   "codemirror_mode": {
    "name": "ipython",
    "version": 3
   },
   "file_extension": ".py",
   "mimetype": "text/x-python",
   "name": "python",
   "nbconvert_exporter": "python",
   "pygments_lexer": "ipython3",
   "version": "3.8.5"
  }
 },
 "nbformat": 4,
 "nbformat_minor": 4
}
